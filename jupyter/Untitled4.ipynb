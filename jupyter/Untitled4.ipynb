{
 "cells": [
  {
   "cell_type": "code",
   "execution_count": 10,
   "metadata": {},
   "outputs": [],
   "source": [
    "from odf.opendocument import load\n",
    "from odf.table import Table, TableRow, TableCell"
   ]
  },
  {
   "cell_type": "code",
   "execution_count": 11,
   "metadata": {},
   "outputs": [],
   "source": [
    "doc = load(\"/mnt/c/Users/plumps/Downloads/Telegram Desktop/Dokument_Layout_Final.odt\")\n",
    "table = doc.text.getElementsByType(Table)"
   ]
  },
  {
   "cell_type": "code",
   "execution_count": 4,
   "metadata": {},
   "outputs": [
    {
     "data": {
      "text/plain": [
       "<odf.opendocument.OpenDocument at 0x7f20f065f4f0>"
      ]
     },
     "execution_count": 4,
     "metadata": {},
     "output_type": "execute_result"
    }
   ],
   "source": [
    "doc"
   ]
  },
  {
   "cell_type": "code",
   "execution_count": 5,
   "metadata": {},
   "outputs": [
    {
     "data": {
      "text/plain": [
       "['Pictures',\n",
       " '_OpenDocument__manifestxml',\n",
       " '_OpenDocument__register_stylename',\n",
       " '_OpenDocument__replaceGenerator',\n",
       " '_OpenDocument__zipwrite',\n",
       " '__class__',\n",
       " '__delattr__',\n",
       " '__dict__',\n",
       " '__dir__',\n",
       " '__doc__',\n",
       " '__eq__',\n",
       " '__format__',\n",
       " '__ge__',\n",
       " '__getattribute__',\n",
       " '__gt__',\n",
       " '__hash__',\n",
       " '__init__',\n",
       " '__init_subclass__',\n",
       " '__le__',\n",
       " '__lt__',\n",
       " '__module__',\n",
       " '__ne__',\n",
       " '__new__',\n",
       " '__reduce__',\n",
       " '__reduce_ex__',\n",
       " '__repr__',\n",
       " '__setattr__',\n",
       " '__sizeof__',\n",
       " '__str__',\n",
       " '__subclasshook__',\n",
       " '__weakref__',\n",
       " '_extra',\n",
       " '_parseoneelement',\n",
       " '_savePictures',\n",
       " '_saveXmlObjects',\n",
       " '_styles_dict',\n",
       " '_styles_ooo_fix',\n",
       " '_used_auto_styles',\n",
       " 'addObject',\n",
       " 'addPicture',\n",
       " 'addPictureFromFile',\n",
       " 'addPictureFromString',\n",
       " 'addThumbnail',\n",
       " 'automaticstyles',\n",
       " 'body',\n",
       " 'build_caches',\n",
       " 'childobjects',\n",
       " 'clear_caches',\n",
       " 'contentxml',\n",
       " 'createCDATASection',\n",
       " 'createElement',\n",
       " 'createTextNode',\n",
       " 'element_dict',\n",
       " 'folder',\n",
       " 'fontfacedecls',\n",
       " 'getElementsByType',\n",
       " 'getMediaType',\n",
       " 'getStyleByName',\n",
       " 'masterstyles',\n",
       " 'meta',\n",
       " 'metaxml',\n",
       " 'mimetype',\n",
       " 'rebuild_caches',\n",
       " 'remove_from_caches',\n",
       " 'save',\n",
       " 'scripts',\n",
       " 'settings',\n",
       " 'settingsxml',\n",
       " 'styles',\n",
       " 'stylesxml',\n",
       " 'text',\n",
       " 'thumbnail',\n",
       " 'toXml',\n",
       " 'topnode',\n",
       " 'write',\n",
       " 'xml']"
      ]
     },
     "execution_count": 5,
     "metadata": {},
     "output_type": "execute_result"
    }
   ],
   "source": [
    "dir(doc)"
   ]
  },
  {
   "cell_type": "code",
   "execution_count": 12,
   "metadata": {},
   "outputs": [
    {
     "data": {
      "text/plain": [
       "[]"
      ]
     },
     "execution_count": 12,
     "metadata": {},
     "output_type": "execute_result"
    }
   ],
   "source": [
    "table"
   ]
  },
  {
   "cell_type": "code",
   "execution_count": 14,
   "metadata": {},
   "outputs": [
    {
     "data": {
      "text/plain": [
       "['AttrConverters',\n",
       " 'CDATASection',\n",
       " 'Childless',\n",
       " 'Element',\n",
       " 'EmptyNodeList',\n",
       " 'IllegalChild',\n",
       " 'IllegalText',\n",
       " 'Node',\n",
       " 'NodeList',\n",
       " 'StringTypes',\n",
       " 'Text',\n",
       " '__builtins__',\n",
       " '__cached__',\n",
       " '__doc__',\n",
       " '__file__',\n",
       " '__loader__',\n",
       " '__name__',\n",
       " '__package__',\n",
       " '__spec__',\n",
       " '_append_child',\n",
       " '_escape',\n",
       " '_handle_unrepresentable',\n",
       " '_nsassign',\n",
       " '_nssplit',\n",
       " '_quoteattr',\n",
       " '_range_seq_to_re',\n",
       " '_sanitize',\n",
       " '_xml10_illegal_ranges',\n",
       " '_xml11_illegal_ranges',\n",
       " '_xml_discouraged_ranges',\n",
       " '_xml_filtered_chars_re',\n",
       " 'defproperty',\n",
       " 'grammar',\n",
       " 'nsdict',\n",
       " 'os',\n",
       " 're',\n",
       " 'sys',\n",
       " 'unichr',\n",
       " 'unicode',\n",
       " 'xml']"
      ]
     },
     "execution_count": 14,
     "metadata": {},
     "output_type": "execute_result"
    }
   ],
   "source": [
    "dir(odf.element)"
   ]
  },
  {
   "cell_type": "code",
   "execution_count": 17,
   "metadata": {},
   "outputs": [
    {
     "ename": "AssertionError",
     "evalue": "",
     "output_type": "error",
     "traceback": [
      "\u001b[0;31m---------------------------------------------------------------------------\u001b[0m",
      "\u001b[0;31mAssertionError\u001b[0m                            Traceback (most recent call last)",
      "\u001b[0;32m<ipython-input-17-6a115761a978>\u001b[0m in \u001b[0;36m<module>\u001b[0;34m\u001b[0m\n\u001b[0;32m----> 1\u001b[0;31m \u001b[0mdoc\u001b[0m\u001b[0;34m.\u001b[0m\u001b[0mgetElementsByType\u001b[0m\u001b[0;34m(\u001b[0m\u001b[0modf\u001b[0m\u001b[0;34m.\u001b[0m\u001b[0melement\u001b[0m\u001b[0;34m.\u001b[0m\u001b[0mNode\u001b[0m\u001b[0;34m)\u001b[0m\u001b[0;34m\u001b[0m\u001b[0;34m\u001b[0m\u001b[0m\n\u001b[0m",
      "\u001b[0;32m/nix/store/5kjqbscj8jdh89yppzfrl6ixwhzrz3cc-python3-3.8.5-env/lib/python3.8/site-packages/odf/opendocument.py\u001b[0m in \u001b[0;36mgetElementsByType\u001b[0;34m(self, elt)\u001b[0m\n\u001b[1;32m    778\u001b[0m         \"\"\"\n\u001b[1;32m    779\u001b[0m         \u001b[0;32mimport\u001b[0m \u001b[0mtypes\u001b[0m\u001b[0;34m\u001b[0m\u001b[0;34m\u001b[0m\u001b[0m\n\u001b[0;32m--> 780\u001b[0;31m         \u001b[0;32massert\u001b[0m\u001b[0;34m(\u001b[0m\u001b[0misinstance\u001b[0m \u001b[0;34m(\u001b[0m\u001b[0melt\u001b[0m\u001b[0;34m,\u001b[0m \u001b[0mtypes\u001b[0m\u001b[0;34m.\u001b[0m\u001b[0mFunctionType\u001b[0m\u001b[0;34m)\u001b[0m\u001b[0;34m)\u001b[0m\u001b[0;34m\u001b[0m\u001b[0;34m\u001b[0m\u001b[0m\n\u001b[0m\u001b[1;32m    781\u001b[0m \u001b[0;34m\u001b[0m\u001b[0m\n\u001b[1;32m    782\u001b[0m         \u001b[0mobj\u001b[0m \u001b[0;34m=\u001b[0m \u001b[0melt\u001b[0m\u001b[0;34m(\u001b[0m\u001b[0mcheck_grammar\u001b[0m\u001b[0;34m=\u001b[0m\u001b[0;32mFalse\u001b[0m\u001b[0;34m)\u001b[0m\u001b[0;34m\u001b[0m\u001b[0;34m\u001b[0m\u001b[0m\n",
      "\u001b[0;31mAssertionError\u001b[0m: "
     ]
    }
   ],
   "source": [
    "doc.getElementsByType(odf.element.Node)"
   ]
  },
  {
   "cell_type": "code",
   "execution_count": 19,
   "metadata": {},
   "outputs": [
    {
     "ename": "SyntaxError",
     "evalue": "invalid syntax (<ipython-input-19-6ed69aa82659>, line 1)",
     "output_type": "error",
     "traceback": [
      "\u001b[0;36m  File \u001b[0;32m\"<ipython-input-19-6ed69aa82659>\"\u001b[0;36m, line \u001b[0;32m1\u001b[0m\n\u001b[0;31m    for i in doc.\u001b[0m\n\u001b[0m                 ^\u001b[0m\n\u001b[0;31mSyntaxError\u001b[0m\u001b[0;31m:\u001b[0m invalid syntax\n"
     ]
    }
   ],
   "source": [
    "for i in doc."
   ]
  },
  {
   "cell_type": "code",
   "execution_count": null,
   "metadata": {},
   "outputs": [],
   "source": []
  }
 ],
 "metadata": {
  "kernelspec": {
   "display_name": "Python 3",
   "language": "python",
   "name": "python3"
  },
  "language_info": {
   "codemirror_mode": {
    "name": "ipython",
    "version": 3
   },
   "file_extension": ".py",
   "mimetype": "text/x-python",
   "name": "python",
   "nbconvert_exporter": "python",
   "pygments_lexer": "ipython3",
   "version": "3.8.5"
  }
 },
 "nbformat": 4,
 "nbformat_minor": 4
}
