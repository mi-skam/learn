{
 "cells": [
  {
   "cell_type": "code",
   "execution_count": 1,
   "metadata": {},
   "outputs": [
    {
     "data": {
      "text/html": [
       "<table><thead><tr><th>FirstName</th><th>LastName</th><th>Age</th><th>IsEnrolled</th></tr></thead><tbody><tr><td>Mary</td><td>Contrary</td><td>25</td><td>True</td></tr></tbody></table>"
      ]
     },
     "metadata": {},
     "output_type": "display_data"
    },
    {
     "data": {
      "text/html": [
       "<table><thead><tr><th>FirstName</th><th>LastName</th><th>Age</th><th>IsEnrolled</th></tr></thead><tbody><tr><td>nfg</td><td>Codex</td><td>20</td><td>False</td></tr></tbody></table>"
      ]
     },
     "metadata": {},
     "output_type": "display_data"
    }
   ],
   "source": [
    "internal class Student \n",
    "{\n",
    "\n",
    "    /* A publicly accessible constructor that doesn't do anything.  \n",
    "    \n",
    "    This public constructor is created by default by the compiler, and does not need to\n",
    "    explicitly be added if no action methods take place during construction\n",
    "    */\n",
    "    public Student() \n",
    "    { \n",
    "    }\n",
    "\n",
    "    // Simple publicly accessible properties that define the FirstName, LastName, and Age\n",
    "    // of our Student\n",
    "    public string FirstName { get; set; }\n",
    "    public string LastName { get; set; }\n",
    "    public int Age { get; set; }\n",
    "    public bool IsEnrolled { get; set; }\n",
    "    \n",
    "}\n",
    "\n",
    "// Create a new Student object and assign it to the variable name `s`\n",
    "var s = new Student();\n",
    "s.FirstName = \"Mary\";\n",
    "s.LastName = \"Contrary\";\n",
    "s.Age = 25;\n",
    "s.IsEnrolled = true;\n",
    "\n",
    "display(s);   // This is NOT a C# or .NET function, but rather a Jupyter notebook feature to display \n",
    "              //the content inside parenthesis ( )\n",
    "    \n",
    "var codex = new Student() {\n",
    "    FirstName = \"nfg\",\n",
    "    LastName = \"Codex\",\n",
    "    Age = 20,\n",
    "    IsEnrolled = false\n",
    "};\n",
    "display(codex);"
   ]
  },
  {
   "cell_type": "code",
   "execution_count": null,
   "metadata": {},
   "outputs": [],
   "source": []
  }
 ],
 "metadata": {
  "kernelspec": {
   "display_name": ".NET (C#)",
   "language": "C#",
   "name": ".net-csharp"
  },
  "language_info": {
   "file_extension": ".cs",
   "mimetype": "text/x-csharp",
   "name": "C#",
   "pygments_lexer": "csharp",
   "version": "8.0"
  }
 },
 "nbformat": 4,
 "nbformat_minor": 4
}
